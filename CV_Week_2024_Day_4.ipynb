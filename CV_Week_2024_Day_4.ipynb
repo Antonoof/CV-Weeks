{
  "cells": [
    {
      "cell_type": "markdown",
      "id": "0a4fcff0",
      "metadata": {
        "id": "0a4fcff0"
      },
      "source": [
        "# Download pipelines"
      ]
    },
    {
      "cell_type": "code",
      "execution_count": null,
      "id": "c18dffaf",
      "metadata": {
        "id": "c18dffaf"
      },
      "outputs": [],
      "source": [
        "import torch\n",
        "from solver import sample_deterministic\n",
        "from diffusers import StableDiffusionPipeline, LCMScheduler\n",
        "\n",
        "dtype = torch.float16\n",
        "pipeline = StableDiffusionPipeline.from_pretrained(\n",
        "           'sd-legacy/stable-diffusion-v1-5',\n",
        "           scheduler=LCMScheduler.from_pretrained('sd-legacy/stable-diffusion-v1-5', subfolder=\"scheduler\"),\n",
        "           torch_dtype=dtype,\n",
        "           safety_checker=None,\n",
        "        )"
      ]
    },
    {
      "cell_type": "markdown",
      "id": "a645891a",
      "metadata": {
        "id": "a645891a"
      },
      "source": [
        "# Load pretrained weights"
      ]
    },
    {
      "cell_type": "code",
      "execution_count": null,
      "id": "94a67a55",
      "metadata": {
        "id": "94a67a55"
      },
      "outputs": [],
      "source": [
        "# Multi boundary CD\n",
        "pipeline.unet.load_state_dict(torch.load('results/model_weights_multi_cd.pth', weights_only=True))"
      ]
    },
    {
      "cell_type": "code",
      "execution_count": null,
      "id": "e5ecc11c",
      "metadata": {
        "id": "e5ecc11c"
      },
      "outputs": [],
      "source": [
        "# CD\n",
        "pipeline.unet.load_state_dict(torch.load('results/model_weights_cd.pth.pth', weights_only=True))"
      ]
    },
    {
      "cell_type": "markdown",
      "id": "299d5740",
      "metadata": {
        "id": "299d5740"
      },
      "source": [
        "# Sampling"
      ]
    },
    {
      "cell_type": "code",
      "execution_count": null,
      "id": "abce6bdd",
      "metadata": {
        "id": "abce6bdd"
      },
      "outputs": [],
      "source": [
        "# Multi boundary CD\n",
        "generator = torch.Generator(device='cuda').manual_seed(0)\n",
        "images = sample_deterministic(\n",
        "                    ldm_stable,\n",
        "                    ['a wolf'],\n",
        "                    args=1, unet=ldm_stable.unet,\n",
        "                    num_inference_steps=4,\n",
        "                )\n",
        "images[0]"
      ]
    },
    {
      "cell_type": "code",
      "execution_count": null,
      "id": "270a83a8",
      "metadata": {
        "id": "270a83a8"
      },
      "outputs": [],
      "source": [
        "# CD\n",
        "generator = torch.Generator(device='cuda').manual_seed(0)\n",
        "images = pipeline(\n",
        "                    prompt=prompt,\n",
        "                    num_inference_steps=4,\n",
        "                    num_images_per_prompt=1,\n",
        "                    generator=generator,\n",
        "                    guidance_scale=0.0,\n",
        "                ).images"
      ]
    }
  ],
  "metadata": {
    "kernelspec": {
      "display_name": "Python 3 (ipykernel)",
      "language": "python",
      "name": "python3"
    },
    "language_info": {
      "codemirror_mode": {
        "name": "ipython",
        "version": 3
      },
      "file_extension": ".py",
      "mimetype": "text/x-python",
      "name": "python",
      "nbconvert_exporter": "python",
      "pygments_lexer": "ipython3",
      "version": "3.10.9"
    },
    "colab": {
      "provenance": []
    }
  },
  "nbformat": 4,
  "nbformat_minor": 5
}